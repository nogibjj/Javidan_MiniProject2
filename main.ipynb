{
 "cells": [
  {
   "cell_type": "code",
   "execution_count": 1,
   "metadata": {},
   "outputs": [],
   "source": [
    "from src.main import generate_csv, read_csv, generate_summary, create_histogram, create_scatter_plot\n",
    "import pandas as pd\n",
    "import matplotlib.pyplot as plt\n",
    "import os"
   ]
  },
  {
   "cell_type": "code",
   "execution_count": 2,
   "metadata": {},
   "outputs": [],
   "source": [
    "default_file_folder = 'data'\n",
    "csv_file_name = 'random_user.csv'\n",
    "full_path = os.path.join(os.getcwd(),default_file_folder, csv_file_name)\n",
    "params = {\"results\" : 500}"
   ]
  },
  {
   "cell_type": "code",
   "execution_count": 3,
   "metadata": {},
   "outputs": [
    {
     "name": "stdout",
     "output_type": "stream",
     "text": [
      "CSV data successfully saved to /Users/javidan/Developer/Data Engineering/PandasDescriptiveStatistics/data/random_user.csv\n",
      "CSV generated at - /Users/javidan/Developer/Data Engineering/PandasDescriptiveStatistics/data/random_user.csv\n"
     ]
    }
   ],
   "source": [
    "file_path = generate_csv(file_name=full_path, params=params)\n",
    "print(f'CSV generated at - {file_path}')\n",
    "df = read_csv(file_path, engine_type='pandas')"
   ]
  },
  {
   "cell_type": "markdown",
   "metadata": {},
   "source": [
    "## Introduction to data"
   ]
  },
  {
   "cell_type": "code",
   "execution_count": 4,
   "metadata": {},
   "outputs": [
    {
     "data": {
      "text/html": [
       "<div>\n",
       "<style scoped>\n",
       "    .dataframe tbody tr th:only-of-type {\n",
       "        vertical-align: middle;\n",
       "    }\n",
       "\n",
       "    .dataframe tbody tr th {\n",
       "        vertical-align: top;\n",
       "    }\n",
       "\n",
       "    .dataframe thead th {\n",
       "        text-align: right;\n",
       "    }\n",
       "</style>\n",
       "<table border=\"1\" class=\"dataframe\">\n",
       "  <thead>\n",
       "    <tr style=\"text-align: right;\">\n",
       "      <th></th>\n",
       "      <th>gender</th>\n",
       "      <th>name.title</th>\n",
       "      <th>name.first</th>\n",
       "      <th>name.last</th>\n",
       "      <th>location.street.number</th>\n",
       "      <th>location.street.name</th>\n",
       "      <th>location.city</th>\n",
       "      <th>location.state</th>\n",
       "      <th>location.country</th>\n",
       "      <th>location.postcode</th>\n",
       "      <th>...</th>\n",
       "      <th>registered.date</th>\n",
       "      <th>registered.age</th>\n",
       "      <th>phone</th>\n",
       "      <th>cell</th>\n",
       "      <th>id.name</th>\n",
       "      <th>id.value</th>\n",
       "      <th>picture.large</th>\n",
       "      <th>picture.medium</th>\n",
       "      <th>picture.thumbnail</th>\n",
       "      <th>nat</th>\n",
       "    </tr>\n",
       "  </thead>\n",
       "  <tbody>\n",
       "    <tr>\n",
       "      <th>0</th>\n",
       "      <td>female</td>\n",
       "      <td>Miss</td>\n",
       "      <td>Miriam</td>\n",
       "      <td>Lane</td>\n",
       "      <td>7994</td>\n",
       "      <td>Railroad St</td>\n",
       "      <td>Tamworth</td>\n",
       "      <td>Tasmania</td>\n",
       "      <td>Australia</td>\n",
       "      <td>4266</td>\n",
       "      <td>...</td>\n",
       "      <td>2010-08-24T16:24:10.865Z</td>\n",
       "      <td>14</td>\n",
       "      <td>03-3345-2734</td>\n",
       "      <td>0458-434-715</td>\n",
       "      <td>TFN</td>\n",
       "      <td>613129487</td>\n",
       "      <td>https://randomuser.me/api/portraits/women/64.jpg</td>\n",
       "      <td>https://randomuser.me/api/portraits/med/women/...</td>\n",
       "      <td>https://randomuser.me/api/portraits/thumb/wome...</td>\n",
       "      <td>AU</td>\n",
       "    </tr>\n",
       "    <tr>\n",
       "      <th>1</th>\n",
       "      <td>male</td>\n",
       "      <td>Mr</td>\n",
       "      <td>Magnus</td>\n",
       "      <td>Rasmussen</td>\n",
       "      <td>9650</td>\n",
       "      <td>Vægterparken</td>\n",
       "      <td>Haslev</td>\n",
       "      <td>Sjælland</td>\n",
       "      <td>Denmark</td>\n",
       "      <td>68442</td>\n",
       "      <td>...</td>\n",
       "      <td>2018-01-07T10:31:39.278Z</td>\n",
       "      <td>6</td>\n",
       "      <td>10683030</td>\n",
       "      <td>83643822</td>\n",
       "      <td>CPR</td>\n",
       "      <td>010883-4387</td>\n",
       "      <td>https://randomuser.me/api/portraits/men/51.jpg</td>\n",
       "      <td>https://randomuser.me/api/portraits/med/men/51...</td>\n",
       "      <td>https://randomuser.me/api/portraits/thumb/men/...</td>\n",
       "      <td>DK</td>\n",
       "    </tr>\n",
       "    <tr>\n",
       "      <th>2</th>\n",
       "      <td>female</td>\n",
       "      <td>Mrs</td>\n",
       "      <td>Ava</td>\n",
       "      <td>Parker</td>\n",
       "      <td>9511</td>\n",
       "      <td>Springfield Road</td>\n",
       "      <td>Thurles</td>\n",
       "      <td>Wicklow</td>\n",
       "      <td>Ireland</td>\n",
       "      <td>64055</td>\n",
       "      <td>...</td>\n",
       "      <td>2011-05-18T09:52:32.895Z</td>\n",
       "      <td>13</td>\n",
       "      <td>071-760-9405</td>\n",
       "      <td>081-826-9767</td>\n",
       "      <td>PPS</td>\n",
       "      <td>5351023T</td>\n",
       "      <td>https://randomuser.me/api/portraits/women/58.jpg</td>\n",
       "      <td>https://randomuser.me/api/portraits/med/women/...</td>\n",
       "      <td>https://randomuser.me/api/portraits/thumb/wome...</td>\n",
       "      <td>IE</td>\n",
       "    </tr>\n",
       "    <tr>\n",
       "      <th>3</th>\n",
       "      <td>female</td>\n",
       "      <td>Ms</td>\n",
       "      <td>Gabija</td>\n",
       "      <td>Bøen</td>\n",
       "      <td>6825</td>\n",
       "      <td>Axel Brinchs vei</td>\n",
       "      <td>Judaberg</td>\n",
       "      <td>Oppland</td>\n",
       "      <td>Norway</td>\n",
       "      <td>0985</td>\n",
       "      <td>...</td>\n",
       "      <td>2011-11-22T06:42:42.064Z</td>\n",
       "      <td>12</td>\n",
       "      <td>77426733</td>\n",
       "      <td>45614795</td>\n",
       "      <td>FN</td>\n",
       "      <td>04125524805</td>\n",
       "      <td>https://randomuser.me/api/portraits/women/2.jpg</td>\n",
       "      <td>https://randomuser.me/api/portraits/med/women/...</td>\n",
       "      <td>https://randomuser.me/api/portraits/thumb/wome...</td>\n",
       "      <td>NO</td>\n",
       "    </tr>\n",
       "    <tr>\n",
       "      <th>4</th>\n",
       "      <td>female</td>\n",
       "      <td>Miss</td>\n",
       "      <td>Sofia</td>\n",
       "      <td>Marshall</td>\n",
       "      <td>7717</td>\n",
       "      <td>The Crescent</td>\n",
       "      <td>Tuam</td>\n",
       "      <td>Dublin City</td>\n",
       "      <td>Ireland</td>\n",
       "      <td>14431</td>\n",
       "      <td>...</td>\n",
       "      <td>2019-05-16T16:42:18.563Z</td>\n",
       "      <td>5</td>\n",
       "      <td>041-712-9090</td>\n",
       "      <td>081-605-8648</td>\n",
       "      <td>PPS</td>\n",
       "      <td>7193544T</td>\n",
       "      <td>https://randomuser.me/api/portraits/women/39.jpg</td>\n",
       "      <td>https://randomuser.me/api/portraits/med/women/...</td>\n",
       "      <td>https://randomuser.me/api/portraits/thumb/wome...</td>\n",
       "      <td>IE</td>\n",
       "    </tr>\n",
       "  </tbody>\n",
       "</table>\n",
       "<p>5 rows × 34 columns</p>\n",
       "</div>"
      ],
      "text/plain": [
       "   gender name.title name.first  name.last  location.street.number  \\\n",
       "0  female       Miss     Miriam       Lane                    7994   \n",
       "1    male         Mr     Magnus  Rasmussen                    9650   \n",
       "2  female        Mrs        Ava     Parker                    9511   \n",
       "3  female         Ms     Gabija       Bøen                    6825   \n",
       "4  female       Miss      Sofia   Marshall                    7717   \n",
       "\n",
       "  location.street.name location.city location.state location.country  \\\n",
       "0          Railroad St      Tamworth       Tasmania        Australia   \n",
       "1         Vægterparken        Haslev       Sjælland          Denmark   \n",
       "2     Springfield Road       Thurles        Wicklow          Ireland   \n",
       "3     Axel Brinchs vei      Judaberg        Oppland           Norway   \n",
       "4         The Crescent          Tuam    Dublin City          Ireland   \n",
       "\n",
       "  location.postcode  ...           registered.date  registered.age  \\\n",
       "0              4266  ...  2010-08-24T16:24:10.865Z              14   \n",
       "1             68442  ...  2018-01-07T10:31:39.278Z               6   \n",
       "2             64055  ...  2011-05-18T09:52:32.895Z              13   \n",
       "3              0985  ...  2011-11-22T06:42:42.064Z              12   \n",
       "4             14431  ...  2019-05-16T16:42:18.563Z               5   \n",
       "\n",
       "          phone          cell id.name     id.value  \\\n",
       "0  03-3345-2734  0458-434-715     TFN    613129487   \n",
       "1      10683030      83643822     CPR  010883-4387   \n",
       "2  071-760-9405  081-826-9767     PPS     5351023T   \n",
       "3      77426733      45614795      FN  04125524805   \n",
       "4  041-712-9090  081-605-8648     PPS     7193544T   \n",
       "\n",
       "                                      picture.large  \\\n",
       "0  https://randomuser.me/api/portraits/women/64.jpg   \n",
       "1    https://randomuser.me/api/portraits/men/51.jpg   \n",
       "2  https://randomuser.me/api/portraits/women/58.jpg   \n",
       "3   https://randomuser.me/api/portraits/women/2.jpg   \n",
       "4  https://randomuser.me/api/portraits/women/39.jpg   \n",
       "\n",
       "                                      picture.medium  \\\n",
       "0  https://randomuser.me/api/portraits/med/women/...   \n",
       "1  https://randomuser.me/api/portraits/med/men/51...   \n",
       "2  https://randomuser.me/api/portraits/med/women/...   \n",
       "3  https://randomuser.me/api/portraits/med/women/...   \n",
       "4  https://randomuser.me/api/portraits/med/women/...   \n",
       "\n",
       "                                   picture.thumbnail nat  \n",
       "0  https://randomuser.me/api/portraits/thumb/wome...  AU  \n",
       "1  https://randomuser.me/api/portraits/thumb/men/...  DK  \n",
       "2  https://randomuser.me/api/portraits/thumb/wome...  IE  \n",
       "3  https://randomuser.me/api/portraits/thumb/wome...  NO  \n",
       "4  https://randomuser.me/api/portraits/thumb/wome...  IE  \n",
       "\n",
       "[5 rows x 34 columns]"
      ]
     },
     "execution_count": 4,
     "metadata": {},
     "output_type": "execute_result"
    }
   ],
   "source": [
    "df.head()"
   ]
  },
  {
   "cell_type": "code",
   "execution_count": 5,
   "metadata": {},
   "outputs": [
    {
     "data": {
      "text/plain": [
       "(500, 34)"
      ]
     },
     "execution_count": 5,
     "metadata": {},
     "output_type": "execute_result"
    }
   ],
   "source": [
    "df.shape"
   ]
  },
  {
   "cell_type": "code",
   "execution_count": 6,
   "metadata": {},
   "outputs": [
    {
     "name": "stdout",
     "output_type": "stream",
     "text": [
      "<class 'pandas.core.frame.DataFrame'>\n",
      "RangeIndex: 500 entries, 0 to 499\n",
      "Data columns (total 34 columns):\n",
      " #   Column                          Non-Null Count  Dtype  \n",
      "---  ------                          --------------  -----  \n",
      " 0   gender                          500 non-null    object \n",
      " 1   name.title                      500 non-null    object \n",
      " 2   name.first                      500 non-null    object \n",
      " 3   name.last                       500 non-null    object \n",
      " 4   location.street.number          500 non-null    int64  \n",
      " 5   location.street.name            500 non-null    object \n",
      " 6   location.city                   500 non-null    object \n",
      " 7   location.state                  500 non-null    object \n",
      " 8   location.country                500 non-null    object \n",
      " 9   location.postcode               500 non-null    object \n",
      " 10  location.coordinates.latitude   500 non-null    float64\n",
      " 11  location.coordinates.longitude  500 non-null    float64\n",
      " 12  location.timezone.offset        500 non-null    object \n",
      " 13  location.timezone.description   500 non-null    object \n",
      " 14  email                           500 non-null    object \n",
      " 15  login.uuid                      500 non-null    object \n",
      " 16  login.username                  500 non-null    object \n",
      " 17  login.password                  500 non-null    object \n",
      " 18  login.salt                      500 non-null    object \n",
      " 19  login.md5                       500 non-null    object \n",
      " 20  login.sha1                      500 non-null    object \n",
      " 21  login.sha256                    500 non-null    object \n",
      " 22  dob.date                        500 non-null    object \n",
      " 23  dob.age                         500 non-null    int64  \n",
      " 24  registered.date                 500 non-null    object \n",
      " 25  registered.age                  500 non-null    int64  \n",
      " 26  phone                           500 non-null    object \n",
      " 27  cell                            500 non-null    object \n",
      " 28  id.name                         410 non-null    object \n",
      " 29  id.value                        410 non-null    object \n",
      " 30  picture.large                   500 non-null    object \n",
      " 31  picture.medium                  500 non-null    object \n",
      " 32  picture.thumbnail               500 non-null    object \n",
      " 33  nat                             500 non-null    object \n",
      "dtypes: float64(2), int64(3), object(29)\n",
      "memory usage: 132.9+ KB\n"
     ]
    }
   ],
   "source": [
    "df.info()"
   ]
  },
  {
   "cell_type": "code",
   "execution_count": 7,
   "metadata": {},
   "outputs": [
    {
     "name": "stdout",
     "output_type": "stream",
     "text": [
      "       location.street.number  location.coordinates.latitude  \\\n",
      "count              500.000000                     500.000000   \n",
      "mean              5009.856000                       2.401864   \n",
      "std               2975.949321                      51.264156   \n",
      "min                 11.000000                     -89.617700   \n",
      "25%               2333.250000                     -38.863575   \n",
      "50%               4855.500000                       2.400400   \n",
      "75%               7729.000000                      47.162275   \n",
      "max               9974.000000                      89.715600   \n",
      "\n",
      "       location.coordinates.longitude     dob.age  registered.age  \n",
      "count                      500.000000  500.000000      500.000000  \n",
      "mean                        -2.334455   52.024000       11.630000  \n",
      "std                         99.085900   16.809657        5.761901  \n",
      "min                       -179.263700   23.000000        2.000000  \n",
      "25%                        -85.259400   36.750000        6.750000  \n",
      "50%                         -1.398000   54.000000       12.000000  \n",
      "75%                         80.207625   68.000000       17.000000  \n",
      "max                        179.061400   80.000000       22.000000  \n"
     ]
    }
   ],
   "source": [
    "res = generate_summary(df)\n",
    "print(res)"
   ]
  },
  {
   "cell_type": "code",
   "execution_count": null,
   "metadata": {},
   "outputs": [],
   "source": []
  },
  {
   "cell_type": "markdown",
   "metadata": {},
   "source": [
    "## Visualization"
   ]
  },
  {
   "cell_type": "code",
   "execution_count": 8,
   "metadata": {},
   "outputs": [
    {
     "data": {
      "image/png": "[encoded data removed]",
      "text/plain": [
       "<Figure size 640x480 with 1 Axes>"
      ]
     },
     "metadata": {},
     "output_type": "display_data"
    },
    {
     "data": {
      "text/plain": [
       "<module 'matplotlib.pyplot' from '/Users/javidan/Developer/Data Engineering/PandasDescriptiveStatistics/venv/lib/python3.12/site-packages/matplotlib/pyplot.py'>"
      ]
     },
     "execution_count": 8,
     "metadata": {},
     "output_type": "execute_result"
    }
   ],
   "source": [
    "create_histogram(df, column = 'dob.age' )\n"
   ]
  },
  {
   "cell_type": "markdown",
   "metadata": {},
   "source": []
  },
  {
   "cell_type": "code",
   "execution_count": 9,
   "metadata": {},
   "outputs": [
    {
     "data": {
      "image/png": "[encoded data removed]",
      "text/plain": [
       "<Figure size 640x480 with 1 Axes>"
      ]
     },
     "metadata": {},
     "output_type": "display_data"
    },
    {
     "name": "stdout",
     "output_type": "stream",
     "text": [
      "Scatter plot saved as 'scatter_plot.png'.\n"
     ]
    },
    {
     "data": {
      "text/plain": [
       "<module 'matplotlib.pyplot' from '/Users/javidan/Developer/Data Engineering/PandasDescriptiveStatistics/venv/lib/python3.12/site-packages/matplotlib/pyplot.py'>"
      ]
     },
     "execution_count": 9,
     "metadata": {},
     "output_type": "execute_result"
    }
   ],
   "source": [
    "create_scatter_plot(df, x_col = 'dob.age', y_col='location.coordinates.latitude')"
   ]
  },
  {
   "cell_type": "code",
   "execution_count": null,
   "metadata": {},
   "outputs": [],
   "source": []
  }
 ],
 "metadata": {
  "kernelspec": {
   "display_name": "venv",
   "language": "python",
   "name": "python3"
  },
  "language_info": {
   "codemirror_mode": {
    "name": "ipython",
    "version": 3
   },
   "file_extension": ".py",
   "mimetype": "text/x-python",
   "name": "python",
   "nbconvert_exporter": "python",
   "pygments_lexer": "ipython3",
   "version": "3.12.5"
  }
 },
 "nbformat": 4,
 "nbformat_minor": 2
}
